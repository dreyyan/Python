{
 "cells": [
  {
   "cell_type": "code",
   "execution_count": 13,
   "id": "351b0be7-b0aa-4789-ad11-dbc003490880",
   "metadata": {},
   "outputs": [
    {
     "name": "stdout",
     "output_type": "stream",
     "text": [
      "['HipHop']\n"
     ]
    }
   ],
   "source": [
    "import pandas as pd\n",
    "from sklearn.tree import DecisionTreeClassifier\n",
    "import joblib\n",
    "\n",
    "# load & prepare data\n",
    "data = pd.read_csv('music.csv')\n",
    "X = data.drop(columns='genre')\n",
    "y = data['genre']\n",
    "\n",
    "# create model\n",
    "model = DecisionTreeClassifier()\n",
    "\n",
    "# train model\n",
    "model.fit(X, y)\n",
    "\n",
    "# save model\n",
    "joblib.dump(model, 'music-recommender.joblib')\n",
    "\n",
    "# load model\n",
    "loadedModel = joblib.load('music-recommender.joblib')\n",
    "\n",
    "# make predictions\n",
    "prediction = loadedModel.predict(pd.DataFrame([[21, 1]], columns=['age', 'gender']))\n",
    "print(prediction)"
   ]
  },
  {
   "cell_type": "code",
   "execution_count": null,
   "id": "765dc1f4-7140-4eef-907d-8338b7870496",
   "metadata": {},
   "outputs": [],
   "source": []
  }
 ],
 "metadata": {
  "kernelspec": {
   "display_name": "Python 3 (ipykernel)",
   "language": "python",
   "name": "python3"
  },
  "language_info": {
   "codemirror_mode": {
    "name": "ipython",
    "version": 3
   },
   "file_extension": ".py",
   "mimetype": "text/x-python",
   "name": "python",
   "nbconvert_exporter": "python",
   "pygments_lexer": "ipython3",
   "version": "3.12.7"
  }
 },
 "nbformat": 4,
 "nbformat_minor": 5
}
