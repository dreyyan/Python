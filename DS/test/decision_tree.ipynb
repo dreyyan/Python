{
 "cells": [
  {
   "cell_type": "code",
   "execution_count": 1,
   "id": "e471d174-e56a-43cf-aa55-58c70c2d7481",
   "metadata": {},
   "outputs": [
    {
     "name": "stdout",
     "output_type": "stream",
     "text": [
      "    age  gender      genre\n",
      "0    20       1     HipHop\n",
      "1    23       1     HipHop\n",
      "2    25       1     HipHop\n",
      "3    26       1       Jazz\n",
      "4    29       1       Jazz\n",
      "5    30       1       Jazz\n",
      "6    31       1  Classical\n",
      "7    33       1  Classical\n",
      "8    37       1  Classical\n",
      "9    20       0      Dance\n",
      "10   21       0      Dance\n",
      "11   25       0      Dance\n",
      "12   26       0   Acoustic\n",
      "13   27       0   Acoustic\n",
      "14   30       0   Acoustic\n",
      "15   31       0  Classical\n",
      "16   34       0  Classical\n",
      "17   35       0  Classical\n",
      "['Dance']\n"
     ]
    }
   ],
   "source": [
    "import pandas as pd\n",
    "from sklearn.tree import DecisionTreeClassifier\n",
    "\n",
    "# load dataset\n",
    "musicData = pd.read_csv('music.csv')\n",
    "print(musicData)\n",
    "\n",
    "# split features & target\n",
    "X = musicData.drop(columns='genre') # input features\n",
    "y = musicData['genre'] # target output\n",
    "\n",
    "# train model\n",
    "newModel = DecisionTreeClassifier()\n",
    "newModel.fit(X, y)\n",
    "\n",
    "# predict new data\n",
    "prediction = newModel.predict(pd.DataFrame([[20, 0]], columns=['age', 'gender']))\n",
    "print(prediction)"
   ]
  }
 ],
 "metadata": {
  "kernelspec": {
   "display_name": "Python 3 (ipykernel)",
   "language": "python",
   "name": "python3"
  },
  "language_info": {
   "codemirror_mode": {
    "name": "ipython",
    "version": 3
   },
   "file_extension": ".py",
   "mimetype": "text/x-python",
   "name": "python",
   "nbconvert_exporter": "python",
   "pygments_lexer": "ipython3",
   "version": "3.12.7"
  }
 },
 "nbformat": 4,
 "nbformat_minor": 5
}
