{
 "cells": [
  {
   "cell_type": "code",
   "execution_count": 2,
   "id": "b127c800-247a-4a8e-aba1-bcf27cf8b896",
   "metadata": {},
   "outputs": [],
   "source": [
    "import pandas as pd\n",
    "from sklearn.tree import DecisionTreeClassifier\n",
    "from sklearn import tree\n",
    "\n",
    "# load & prepare data\n",
    "data = pd.read_csv('music.csv')\n",
    "\n",
    "# split dataset\n",
    "X = data.drop(columns='genre')\n",
    "y = data['genre']\n",
    "\n",
    "# create model\n",
    "model = DecisionTreeClassifier()\n",
    "\n",
    "# train model\n",
    "model.fit(X, y)\n",
    "\n",
    "# export .dot file\n",
    "tree.export_graphviz(model,\n",
    "out_file='music-recommender.dot',\n",
    "feature_names=['age', 'gender'],\n",
    "class_names=sorted(y.unique()),\n",
    "label='all',\n",
    "# styles\n",
    "rounded=True,\n",
    "filled=True\n",
    ")"
   ]
  }
 ],
 "metadata": {
  "kernelspec": {
   "display_name": "Python 3 (ipykernel)",
   "language": "python",
   "name": "python3"
  },
  "language_info": {
   "codemirror_mode": {
    "name": "ipython",
    "version": 3
   },
   "file_extension": ".py",
   "mimetype": "text/x-python",
   "name": "python",
   "nbconvert_exporter": "python",
   "pygments_lexer": "ipython3",
   "version": "3.12.7"
  }
 },
 "nbformat": 4,
 "nbformat_minor": 5
}
