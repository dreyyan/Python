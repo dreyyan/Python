{
 "cells": [
  {
   "cell_type": "code",
   "execution_count": 45,
   "id": "579a2016-f905-4136-9575-664fe3924ab5",
   "metadata": {},
   "outputs": [
    {
     "name": "stdout",
     "output_type": "stream",
     "text": [
      "[ DATA ]\n",
      "   StudyHours  SleepHours  Passed\n",
      "0           2         4.0       0\n",
      "1           4         5.0       0\n",
      "2           5         6.0       0\n",
      "3           6         6.5       1\n",
      "4           7         7.0       1\n",
      "5           8         7.5       1\n",
      "6           9         8.0       1\n",
      "7           3         5.0       0\n",
      "8          10         6.0       1\n",
      "9           4         4.0       0\n",
      "\n",
      "[ ACCURACY ]\n",
      "1.00\n",
      "\n",
      "[ TEST DATA & PREDICTIONS ]\n",
      "Input: [2. 4.], Predicted: 0, Actual: 0\n",
      "Input: [10.  6.], Predicted: 1, Actual: 1\n",
      "\n",
      "[ CONFUSION MATRIX ]\n",
      "Confusion Matrix:\n",
      " [[1 0]\n",
      " [0 1]]\n",
      "\n",
      "[ CLASSIFICATION REPORT ]\n",
      "              precision    recall  f1-score   support\n",
      "\n",
      "           0       1.00      1.00      1.00         1\n",
      "           1       1.00      1.00      1.00         1\n",
      "\n",
      "    accuracy                           1.00         2\n",
      "   macro avg       1.00      1.00      1.00         2\n",
      "weighted avg       1.00      1.00      1.00         2\n",
      "\n",
      "[ CROSS VALIDATION ]\n",
      "Cross-validated accuracy: 1.00\n"
     ]
    },
    {
     "data": {
      "text/plain": [
       "['student-performance-evaluator.joblib']"
      ]
     },
     "execution_count": 45,
     "metadata": {},
     "output_type": "execute_result"
    }
   ],
   "source": [
    "import pandas as pd\n",
    "import joblib\n",
    "from sklearn.linear_model import LogisticRegression\n",
    "from sklearn.model_selection import train_test_split\n",
    "from sklearn.metrics import accuracy_score\n",
    "from sklearn.metrics import confusion_matrix\n",
    "from sklearn.metrics import classification_report\n",
    "from sklearn.model_selection import cross_val_score\n",
    "\n",
    "# load & prepare data\n",
    "data = pd.read_csv('CSV/students.csv')\n",
    "X = data.drop(columns='Passed')\n",
    "y = data['Passed']\n",
    "print(\"[ DATA ]\")\n",
    "print(data)\n",
    "\n",
    "# split dataset\n",
    "X_train, X_test, y_train, y_test = train_test_split(X, y, test_size=0.2)\n",
    "\n",
    "# train model\n",
    "model = LogisticRegression()\n",
    "model.fit(X_train, y_train)\n",
    "\n",
    "# test model by making predictions\n",
    "predictions = model.predict(X_test)\n",
    "\n",
    "# evaluate model\n",
    "accuracy = accuracy_score(y_test, predictions)\n",
    "\n",
    "# 1. Accuracy\n",
    "print(\"\\n[ ACCURACY ]\")\n",
    "print(f\"{accuracy:.2f}\")\n",
    "\n",
    "# 2. Look at Test Data & Predictions\n",
    "print(\"\\n[ TEST DATA & PREDICTIONS ]\")\n",
    "for i, pred in enumerate(predictions):\n",
    "    print(f\"Input: {X_test.iloc[i].values}, Predicted: {pred}, Actual: {y_test.iloc[i]}\")\n",
    "\n",
    "# 3. Confusion Matrix\n",
    "print(\"\\n[ CONFUSION MATRIX ]\")\n",
    "cm = confusion_matrix(y_test, predictions, labels=[0, 1])\n",
    "print(\"Confusion Matrix:\\n\", cm)\n",
    "\n",
    "# 4. Precision, Recall, F1 Score\n",
    "print(\"\\n[ CLASSIFICATION REPORT ]\")\n",
    "print(classification_report(y_test, predictions, labels=[0, 1]))\n",
    "\n",
    "# 5. Cross-Validation\n",
    "print(\"[ CROSS VALIDATION ]\")\n",
    "scores = cross_val_score(model, X, y, cv=5)\n",
    "print(f\"Cross-validated accuracy: {scores.mean():.2f}\")\n",
    "\n",
    "# save model\n",
    "joblib.dump(model, 'student-performance-evaluator.joblib')"
   ]
  },
  {
   "cell_type": "code",
   "execution_count": null,
   "id": "5fcfe9c7-bfe0-47be-8360-43bcaac8e00e",
   "metadata": {},
   "outputs": [],
   "source": []
  }
 ],
 "metadata": {
  "kernelspec": {
   "display_name": "Python 3 (ipykernel)",
   "language": "python",
   "name": "python3"
  },
  "language_info": {
   "codemirror_mode": {
    "name": "ipython",
    "version": 3
   },
   "file_extension": ".py",
   "mimetype": "text/x-python",
   "name": "python",
   "nbconvert_exporter": "python",
   "pygments_lexer": "ipython3",
   "version": "3.12.7"
  }
 },
 "nbformat": 4,
 "nbformat_minor": 5
}
